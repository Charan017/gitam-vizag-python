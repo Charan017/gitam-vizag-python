{
 "cells": [
  {
   "cell_type": "markdown",
   "metadata": {},
   "source": [
    "# control statements\n",
    "- conditional statements or control statements\n",
    "    - if-else\n",
    "- iterational statements or loop statements\n",
    "    - while\n",
    "    - for"
   ]
  },
  {
   "cell_type": "code",
   "execution_count": 1,
   "metadata": {},
   "outputs": [
    {
     "name": "stdout",
     "output_type": "stream",
     "text": [
      "2020\n",
      "leap year\n"
     ]
    }
   ],
   "source": [
    "# check the input is leap year or not\n",
    "year=int(input(''))\n",
    "if (year%400==0 or (year%100!=0 and year%4==0)):\n",
    "    print('leap year')\n",
    "else:\n",
    "    print('not leap year')"
   ]
  },
  {
   "cell_type": "markdown",
   "metadata": {},
   "source": [
    "# while loop"
   ]
  },
  {
   "cell_type": "code",
   "execution_count": 7,
   "metadata": {},
   "outputs": [
    {
     "name": "stdout",
     "output_type": "stream",
     "text": [
      "enter a number12\n",
      "1 2 3 4 5 6 7 8 9 10 11 12 "
     ]
    }
   ],
   "source": [
    "# print numbers from 1 to n\n",
    "# input:10\n",
    "# output:12345......10\n",
    "n=int(input('enter a number'))\n",
    "i=1\n",
    "while(i<=n):\n",
    "    print(i,end=' ')\n",
    "    i=i+1"
   ]
  },
  {
   "cell_type": "code",
   "execution_count": 21,
   "metadata": {},
   "outputs": [
    {
     "name": "stdout",
     "output_type": "stream",
     "text": [
      "enter a number10\n",
      "2 6 12 20 30 sum= 30\n"
     ]
    }
   ],
   "source": [
    "# read a number as input\n",
    "# output as only even number from 1 to n\n",
    "# input:10\n",
    "# output:30(2+4+6+8+10)\n",
    "n=int(input('enter a number'))\n",
    "i=2\n",
    "a=0\n",
    "while i<=n:\n",
    "    a=a+i\n",
    "    i=i+2\n",
    "    print(a,end=' ')\n",
    "print(\"sum=\",a)\n",
    "    "
   ]
  },
  {
   "cell_type": "code",
   "execution_count": 24,
   "metadata": {},
   "outputs": [
    {
     "name": "stdout",
     "output_type": "stream",
     "text": [
      "123\n",
      "3 2 1 "
     ]
    }
   ],
   "source": [
    "#read a number as input\n",
    "#output has be digits of the number\n",
    "#input:123\n",
    "#output:3 2 1\n",
    "n=int(input(''))\n",
    "while n != 0:\n",
    "    print(n%10,end=' ')\n",
    "    n=n//10"
   ]
  },
  {
   "cell_type": "markdown",
   "metadata": {},
   "source": [
    "### functional programming\n",
    "- simple\n",
    "- easy understand\n",
    "- better reusability\n",
    "- lengthy program will be diivided into sub programs"
   ]
  },
  {
   "cell_type": "code",
   "execution_count": 31,
   "metadata": {},
   "outputs": [],
   "source": [
    "def nameofthefunction(parameters):\n",
    "    statements\n",
    "    return"
   ]
  },
  {
   "cell_type": "code",
   "execution_count": 27,
   "metadata": {},
   "outputs": [
    {
     "data": {
      "text/plain": [
       "6"
      ]
     },
     "execution_count": 27,
     "metadata": {},
     "output_type": "execute_result"
    }
   ],
   "source": [
    "#read a number\n",
    "#print the even digit sum from the number\n",
    "# input:1234\n",
    "# output:6(2+4)\n",
    "def evenDigitSum(n):\n",
    "    s=0\n",
    "    while n != 0:\n",
    "        r = n % 10\n",
    "        if r % 2 == 0:\n",
    "            s = s + r\n",
    "        n = n // 10\n",
    "    return s\n",
    "evenDigitSum(1234)"
   ]
  },
  {
   "cell_type": "code",
   "execution_count": 35,
   "metadata": {},
   "outputs": [
    {
     "data": {
      "text/plain": [
       "9"
      ]
     },
     "execution_count": 35,
     "metadata": {},
     "output_type": "execute_result"
    }
   ],
   "source": [
    "# input : 19535\n",
    "# output : 9(large digit of the given number)\n",
    "# functional programming\n",
    "def largeDigit(n):\n",
    "    a=0\n",
    "    while n != 0:\n",
    "        r=n%10\n",
    "        if r > a:\n",
    "            a = r\n",
    "        n=n//10\n",
    "    return a\n",
    "largeDigit(19535)"
   ]
  },
  {
   "cell_type": "code",
   "execution_count": 39,
   "metadata": {},
   "outputs": [
    {
     "name": "stdout",
     "output_type": "stream",
     "text": [
      "enter number:145\n"
     ]
    },
    {
     "data": {
      "text/plain": [
       "'yes'"
      ]
     },
     "execution_count": 39,
     "metadata": {},
     "output_type": "execute_result"
    }
   ],
   "source": [
    "#read a number as input\n",
    "#output yes or no\n",
    "# input:145\n",
    "# output:yes\n",
    "#input;123\n",
    "#output;no\n",
    "# individual digit factorial sum is same as input number\n",
    "def fact(n):\n",
    "    s=1\n",
    "    i=1\n",
    "    while i<=n:\n",
    "        s=s*i\n",
    "        i=i+1\n",
    "    return s\n",
    "def yesorno(n):\n",
    "    num=n\n",
    "    sum=0\n",
    "    while n!=0:\n",
    "        r = n%10\n",
    "        sum=sum+fact(r)\n",
    "        n=n//10\n",
    "    if sum==num:\n",
    "        return \"yes\"\n",
    "    else:\n",
    "        return \"no\"\n",
    "f=int(input('enter number:'))\n",
    "yesorno(f)"
   ]
  },
  {
   "cell_type": "code",
   "execution_count": 9,
   "metadata": {},
   "outputs": [
    {
     "name": "stdout",
     "output_type": "stream",
     "text": [
      "palindrome\n",
      "not a palindrome\n"
     ]
    }
   ],
   "source": [
    "#read a number as input \n",
    "# output as palindrome ar not a palindrome\n",
    "# input:121\n",
    "#output:palindrome\n",
    "def palindrome(n):\n",
    "    s=0\n",
    "    y=n\n",
    "    while n!=0:\n",
    "        s=(s*10)+n%10\n",
    "        n=n//10\n",
    "    if y==s:\n",
    "        print(\"palindrome\")\n",
    "    else:\n",
    "        print(\"not a palindrome\")\n",
    "palindrome(121)\n",
    "palindrome(123)"
   ]
  },
  {
   "cell_type": "markdown",
   "metadata": {},
   "source": [
    "# for loop"
   ]
  },
  {
   "cell_type": "code",
   "execution_count": 11,
   "metadata": {},
   "outputs": [
    {
     "name": "stdout",
     "output_type": "stream",
     "text": [
      "11 12 13 14 15 16 17 18 19 20 21 22 23 24 25 "
     ]
    }
   ],
   "source": [
    "# function to print the numbers between two limits\n",
    "# input 11  25\n",
    "# output:11 12 13 14 15 ...21\n",
    "def printseries(lb,ub):\n",
    "    for x in range(lb,ub+1):\n",
    "        print(x,end=' ')\n",
    "    return\n",
    "printseries(11,25)"
   ]
  },
  {
   "cell_type": "code",
   "execution_count": 1,
   "metadata": {},
   "outputs": [
    {
     "name": "stdout",
     "output_type": "stream",
     "text": [
      "500 504 508 512 516 520 "
     ]
    }
   ],
   "source": [
    "# function to print the alternate numbers\n",
    "\n",
    "def printseries(lb,ub):\n",
    "    for x in range(lb,ub+1,4):\n",
    "        print(x,end=' ')\n",
    "    return\n",
    "printseries(500,520)"
   ]
  },
  {
   "cell_type": "code",
   "execution_count": null,
   "metadata": {},
   "outputs": [],
   "source": []
  }
 ],
 "metadata": {
  "kernelspec": {
   "display_name": "Python 3",
   "language": "python",
   "name": "python3"
  },
  "language_info": {
   "codemirror_mode": {
    "name": "ipython",
    "version": 3
   },
   "file_extension": ".py",
   "mimetype": "text/x-python",
   "name": "python",
   "nbconvert_exporter": "python",
   "pygments_lexer": "ipython3",
   "version": "3.7.3"
  }
 },
 "nbformat": 4,
 "nbformat_minor": 2
}
