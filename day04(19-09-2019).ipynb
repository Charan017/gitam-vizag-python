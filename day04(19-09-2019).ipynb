{
 "cells": [
  {
   "cell_type": "code",
   "execution_count": 3,
   "metadata": {},
   "outputs": [
    {
     "name": "stdout",
     "output_type": "stream",
     "text": [
      "osaphe\n"
     ]
    }
   ],
   "source": [
    "def isVowel(ch): \n",
    "    if (ch != 'a' and ch != 'e' and \n",
    "        ch != 'i' and ch != 'o' and \n",
    "        ch != 'u'): \n",
    "        return False; \n",
    "    return True; \n",
    "def replaceConsonants(s): \n",
    "    for i in range(len(s)): \n",
    "        if (isVowel(s[i])==False): \n",
    "            if (s[i] == 'z'): \n",
    "                s[i] = 'b'; \n",
    "            else: \n",
    "                [i] = chr(ord(s[i]) + 1); \n",
    "                if (isVowel(s[i])==True): \n",
    "                    s[i] = chr(ord(s[i]) + 1); \n",
    "    return ''.join(s); \n",
    "s = \"orange\"; \n",
    "print(replaceConsonants(list(s))); "
   ]
  },
  {
   "cell_type": "markdown",
   "metadata": {},
   "source": [
    "### string functions\n",
    "- upper -- will convert the input string into upper case\n",
    "- lower -- will convert the input string into lower case"
   ]
  },
  {
   "cell_type": "code",
   "execution_count": 7,
   "metadata": {},
   "outputs": [
    {
     "name": "stdout",
     "output_type": "stream",
     "text": [
      "PYTHON\n",
      "python\n"
     ]
    }
   ],
   "source": [
    "s1 = \"python\"\n",
    "print(s1.upper())\n",
    "print(s1.lower())"
   ]
  },
  {
   "cell_type": "markdown",
   "metadata": {},
   "source": [
    "# string boolean functions\n",
    "- true or false\n",
    "- islower() -- true if the string have all characters lower case\n",
    "- isupper() -- true if the string have all characters upper case\n",
    "- istitle() -- true if the string in title case\n",
    "- isnumeric() -- true if string contais all numbers\n",
    "- isalpha() -- true if the string contains only alphabets\n",
    "- isspace() -- true if the string is space"
   ]
  },
  {
   "cell_type": "code",
   "execution_count": 10,
   "metadata": {},
   "outputs": [
    {
     "name": "stdout",
     "output_type": "stream",
     "text": [
      "False\n",
      "True\n"
     ]
    }
   ],
   "source": [
    "s1 = \"python\"\n",
    "print(s1.isupper())\n",
    "print(s1.islower())"
   ]
  },
  {
   "cell_type": "code",
   "execution_count": 15,
   "metadata": {},
   "outputs": [
    {
     "name": "stdout",
     "output_type": "stream",
     "text": [
      "True\n"
     ]
    }
   ],
   "source": [
    "s1 = \"Pythonprogramming\"\n",
    "print(s1.istitle())"
   ]
  },
  {
   "cell_type": "code",
   "execution_count": 12,
   "metadata": {},
   "outputs": [
    {
     "name": "stdout",
     "output_type": "stream",
     "text": [
      "True\n",
      "True\n"
     ]
    }
   ],
   "source": [
    "s1 = \"123456\"\n",
    "s2 = \"py123\"\n",
    "print(s1.isnumeric())\n",
    "print(s1.isnumeric())"
   ]
  },
  {
   "cell_type": "code",
   "execution_count": 17,
   "metadata": {},
   "outputs": [
    {
     "name": "stdout",
     "output_type": "stream",
     "text": [
      "False\n",
      "True\n"
     ]
    }
   ],
   "source": [
    "s1 = \"py123456\"\n",
    "s2 = \"python\"\n",
    "print(s1.isalpha())\n",
    "print(s2.isalpha())"
   ]
  },
  {
   "cell_type": "code",
   "execution_count": 18,
   "metadata": {},
   "outputs": [
    {
     "name": "stdout",
     "output_type": "stream",
     "text": [
      "True\n",
      "False\n"
     ]
    }
   ],
   "source": [
    "s1 = ' '\n",
    "s2 = '1 2 3'\n",
    "print(s1.isspace())\n",
    "print(s2.isspace())"
   ]
  },
  {
   "cell_type": "markdown",
   "metadata": {},
   "source": [
    "# string methods\n",
    "- split() -- returns the list of strings repeated by white space\n",
    "- replace() -- returns the string replaces by word/character\n",
    "- join() -- concatination of two strings"
   ]
  },
  {
   "cell_type": "code",
   "execution_count": 23,
   "metadata": {},
   "outputs": [
    {
     "name": "stdout",
     "output_type": "stream",
     "text": [
      "['python', 'programming', 'learn', 'made', 'easy']\n"
     ]
    }
   ],
   "source": [
    "s1 = \"python programming learn made easy\"\n",
    "li = s1.split() # default is white space\n",
    "print(li)"
   ]
  },
  {
   "cell_type": "code",
   "execution_count": 20,
   "metadata": {},
   "outputs": [
    {
     "name": "stdout",
     "output_type": "stream",
     "text": [
      "['python progr', 'mming le', 'rn m', 'de e', 'sy']\n"
     ]
    }
   ],
   "source": [
    "s1 = \"python programming learn made easy\"\n",
    "li = s1.split('a')\n",
    "print(li)"
   ]
  },
  {
   "cell_type": "code",
   "execution_count": 21,
   "metadata": {},
   "outputs": [
    {
     "name": "stdout",
     "output_type": "stream",
     "text": [
      "python_programming_learn_made_easy\n"
     ]
    }
   ],
   "source": [
    "s1 = \"python programming learn made easy\"\n",
    "print(s1.replace(' ','_'))"
   ]
  },
  {
   "cell_type": "code",
   "execution_count": 22,
   "metadata": {},
   "outputs": [
    {
     "name": "stdout",
     "output_type": "stream",
     "text": [
      "python progr@mming le@rn m@de e@sy\n"
     ]
    }
   ],
   "source": [
    "s1 = \"python programming learn made easy\"\n",
    "print(s1.replace('a','@'))"
   ]
  },
  {
   "cell_type": "code",
   "execution_count": 24,
   "metadata": {},
   "outputs": [
    {
     "name": "stdout",
     "output_type": "stream",
     "text": [
      "p y t h o n\n"
     ]
    }
   ],
   "source": [
    "s1 = \"python\"\n",
    "print(\" \".join(s1))"
   ]
  },
  {
   "cell_type": "markdown",
   "metadata": {},
   "source": [
    "# string formatting\n",
    "- classic version\n",
    "- current version python"
   ]
  },
  {
   "cell_type": "code",
   "execution_count": 28,
   "metadata": {},
   "outputs": [
    {
     "name": "stdout",
     "output_type": "stream",
     "text": [
      "python programming\n"
     ]
    }
   ],
   "source": [
    "# classic version ( c or c++)\n",
    "li = [\"python\",\"programming\"]\n",
    "print('%s %s'%(li[0],li[1]))"
   ]
  },
  {
   "cell_type": "code",
   "execution_count": 29,
   "metadata": {},
   "outputs": [
    {
     "name": "stdout",
     "output_type": "stream",
     "text": [
      "1 2 3 4\n"
     ]
    }
   ],
   "source": [
    "li = [1,2,3,4]\n",
    "print('%d %d %d %d' %(li[0],li[1],li[2],li[3]))"
   ]
  },
  {
   "cell_type": "code",
   "execution_count": 32,
   "metadata": {},
   "outputs": [
    {
     "name": "stdout",
     "output_type": "stream",
     "text": [
      "list item 0 : python \n",
      "list item 1 : programming\n"
     ]
    }
   ],
   "source": [
    "# format\n",
    "li = [\"python\",\"programming\"]\n",
    "print(\"list item 0 : {0} \\nlist item 1 : {1}\".format(li[0],li[1]))"
   ]
  },
  {
   "cell_type": "code",
   "execution_count": 33,
   "metadata": {},
   "outputs": [
    {
     "name": "stdout",
     "output_type": "stream",
     "text": [
      "1 2 3 4\n"
     ]
    }
   ],
   "source": [
    "li=[1,2,3,4]\n",
    "print('{0} {1} {2} {3}'.format(li[0],li[1],li[2],li[3]))"
   ]
  },
  {
   "cell_type": "markdown",
   "metadata": {},
   "source": [
    "# data structure\n",
    "- lists\n",
    "- tuples\n",
    "- dictionaries"
   ]
  },
  {
   "cell_type": "markdown",
   "metadata": {},
   "source": [
    "### dictionaries\n",
    "- it wiorks on the concept of unique data\n",
    "- key,value is the uniqye identifier a value\n",
    "- each key is separated from value colon(:)\n",
    "- each key and value separated by comma(:)\n",
    "- dictionaries are enclosed with curly barces({})"
   ]
  },
  {
   "cell_type": "code",
   "execution_count": 36,
   "metadata": {},
   "outputs": [
    {
     "name": "stdout",
     "output_type": "stream",
     "text": [
      "{'Name': 'Gitam', 'Emailid': 'gitamvizag@gmail.com', 'Address': 'Vizag'}\n"
     ]
    }
   ],
   "source": [
    "d1 =  {\"Name\":\"Gitam\",\"Emailid\":\"gitamvizag@gmail.com\",\"Address\":\"Vizag\"}\n",
    "print(d1)"
   ]
  },
  {
   "cell_type": "code",
   "execution_count": 39,
   "metadata": {},
   "outputs": [
    {
     "data": {
      "text/plain": [
       "'gitamvizag@gmail.com'"
      ]
     },
     "execution_count": 39,
     "metadata": {},
     "output_type": "execute_result"
    }
   ],
   "source": [
    "d1[\"Emailid\"] # ACCESS THE SPECIFIC KEY VALUE"
   ]
  },
  {
   "cell_type": "code",
   "execution_count": 45,
   "metadata": {},
   "outputs": [
    {
     "data": {
      "text/plain": [
       "{'Name': 'Gitam',\n",
       " 'Emailid': 'Gitam@hotmail.com',\n",
       " 'Address': 'Vizag',\n",
       " 'mailid': 'Gitam@hotmail.com'}"
      ]
     },
     "execution_count": 45,
     "metadata": {},
     "output_type": "execute_result"
    }
   ],
   "source": [
    "d1[\"Emailid\"] = \"Gitam@hotmail.com\" # update the value using key\n",
    "d1"
   ]
  },
  {
   "cell_type": "code",
   "execution_count": 46,
   "metadata": {},
   "outputs": [
    {
     "data": {
      "text/plain": [
       "dict_keys(['Name', 'Emailid', 'Address', 'mailid'])"
      ]
     },
     "execution_count": 46,
     "metadata": {},
     "output_type": "execute_result"
    }
   ],
   "source": [
    "d1.keys()#all the keys of dict object"
   ]
  },
  {
   "cell_type": "code",
   "execution_count": 47,
   "metadata": {},
   "outputs": [
    {
     "data": {
      "text/plain": [
       "dict_values(['Gitam', 'Gitam@hotmail.com', 'Vizag', 'Gitam@hotmail.com'])"
      ]
     },
     "execution_count": 47,
     "metadata": {},
     "output_type": "execute_result"
    }
   ],
   "source": [
    "d1.values()"
   ]
  },
  {
   "cell_type": "code",
   "execution_count": 48,
   "metadata": {},
   "outputs": [],
   "source": [
    "del d1[\"mailid\"]"
   ]
  },
  {
   "cell_type": "code",
   "execution_count": 51,
   "metadata": {},
   "outputs": [
    {
     "data": {
      "text/plain": [
       "{'Name': 'Gitam', 'Emailid': 'Gitam@hotmail.com', 'Address': 'Vizag'}"
      ]
     },
     "execution_count": 51,
     "metadata": {},
     "output_type": "execute_result"
    }
   ],
   "source": [
    "d1"
   ]
  },
  {
   "cell_type": "code",
   "execution_count": 53,
   "metadata": {},
   "outputs": [],
   "source": [
    "del d1"
   ]
  },
  {
   "cell_type": "code",
   "execution_count": 55,
   "metadata": {},
   "outputs": [
    {
     "ename": "NameError",
     "evalue": "name 'd1' is not defined",
     "output_type": "error",
     "traceback": [
      "\u001b[1;31m---------------------------------------------------------------------------\u001b[0m",
      "\u001b[1;31mNameError\u001b[0m                                 Traceback (most recent call last)",
      "\u001b[1;32m<ipython-input-55-2d3a24957153>\u001b[0m in \u001b[0;36m<module>\u001b[1;34m\u001b[0m\n\u001b[1;32m----> 1\u001b[1;33m \u001b[0md1\u001b[0m\u001b[1;33m\u001b[0m\u001b[1;33m\u001b[0m\u001b[0m\n\u001b[0m",
      "\u001b[1;31mNameError\u001b[0m: name 'd1' is not defined"
     ]
    }
   ],
   "source": [
    "d1"
   ]
  },
  {
   "cell_type": "markdown",
   "metadata": {},
   "source": [
    "# contact application\n",
    "- add a contact details\n",
    "- search the contact details\n",
    "- list all the contact(merge/import)\n",
    "    - name 1 : value\n",
    "    - name 2 : value\n",
    "- modify the contacts\n",
    "- delete the contact details"
   ]
  },
  {
   "cell_type": "code",
   "execution_count": 90,
   "metadata": {},
   "outputs": [
    {
     "name": "stdout",
     "output_type": "stream",
     "text": [
      "ccontact details are added successfuly\n",
      "ccontact details are added successfuly\n",
      "name is already exists\n"
     ]
    }
   ],
   "source": [
    "contact = {} # empty dict object\n",
    "# lets create a function to add contact details\n",
    "def addcontact(name,phone):\n",
    "    if name not in contact: # cond to check nme is exist or not\n",
    "        contact[name] = phone\n",
    "        print('ccontact details are added successfuly')\n",
    "    else:\n",
    "        print('name is already exists')\n",
    "    return\n",
    "addcontact('charan','6302634470')\n",
    "addcontact('rakesh',8179795396)\n",
    "addcontact('charan','6302634470')"
   ]
  },
  {
   "cell_type": "code",
   "execution_count": 91,
   "metadata": {},
   "outputs": [
    {
     "name": "stdout",
     "output_type": "stream",
     "text": [
      "charan : 6302634470\n",
      "gitam does not preset\n",
      "rakesh : 8179795396\n"
     ]
    }
   ],
   "source": [
    "def searchContact(name):\n",
    "    if name in contact:\n",
    "        print(name,\":\",contact[name])\n",
    "    else:\n",
    "        print('%s does not preset' %name)\n",
    "    return \n",
    "searchContact('charan')\n",
    "searchContact('gitam')\n",
    "searchContact('rakesh')"
   ]
  },
  {
   "cell_type": "code",
   "execution_count": 92,
   "metadata": {},
   "outputs": [
    {
     "name": "stdout",
     "output_type": "stream",
     "text": [
      "3 contacts are added\n"
     ]
    },
    {
     "data": {
      "text/plain": [
       "{'charan': '6302634470',\n",
       " 'rakesh': '8179795396',\n",
       " 'gitam': 9988776655,\n",
       " 'anil': 6655443322,\n",
       " 'python': 3322554152}"
      ]
     },
     "execution_count": 92,
     "metadata": {},
     "output_type": "execute_result"
    }
   ],
   "source": [
    "# import new contact details\n",
    "# merge the previous details with new details\n",
    "def importcontact(newcontact):\n",
    "    contact.update(newcontact)\n",
    "    print(len(newcontact.keys()),'contacts are added')\n",
    "    return\n",
    "newcontact = {'gitam':9988776655,'anil':6655443322,'python':3322554152}\n",
    "importcontact(newcontact)\n",
    "contact"
   ]
  },
  {
   "cell_type": "code",
   "execution_count": 93,
   "metadata": {},
   "outputs": [
    {
     "name": "stdout",
     "output_type": "stream",
     "text": [
      "hjbcdhc not exists\n",
      "gitam updated successflly\n"
     ]
    },
    {
     "data": {
      "text/plain": [
       "{'charan': '6302634470',\n",
       " 'rakesh': '8179795396',\n",
       " 'gitam': 6974567378,\n",
       " 'anil': 6655443322,\n",
       " 'python': 3322554152}"
      ]
     },
     "execution_count": 93,
     "metadata": {},
     "output_type": "execute_result"
    }
   ],
   "source": [
    "def modifycontact(name,phone):\n",
    "    if name in contact:\n",
    "        contact[name] = phone\n",
    "        print(name,'updated successflly')\n",
    "    else:\n",
    "        print(name,'not exists')\n",
    "    return\n",
    "modifycontact('hjbcdhc',3548766766)\n",
    "modifycontact('gitam',6974567378)\n",
    "contact"
   ]
  },
  {
   "cell_type": "code",
   "execution_count": 94,
   "metadata": {},
   "outputs": [
    {
     "name": "stdout",
     "output_type": "stream",
     "text": [
      "python deleted successfully\n"
     ]
    },
    {
     "data": {
      "text/plain": [
       "{'charan': '6302634470',\n",
       " 'rakesh': '8179795396',\n",
       " 'gitam': 6974567378,\n",
       " 'anil': 6655443322}"
      ]
     },
     "execution_count": 94,
     "metadata": {},
     "output_type": "execute_result"
    }
   ],
   "source": [
    "def deletecontact(name):\n",
    "    if name in contact:\n",
    "        del contact[name]\n",
    "        print(name,'deleted successfully')\n",
    "    else:\n",
    "        print(name,'not present')\n",
    "    return\n",
    "deletecontact('python')\n",
    "contact"
   ]
  },
  {
   "cell_type": "markdown",
   "metadata": {},
   "source": [
    "## tuples\n",
    "- tuples enclosed with parenthesis"
   ]
  },
  {
   "cell_type": "markdown",
   "metadata": {},
   "source": [
    "## difference between tuples and list\n",
    "- list are mutable -- can be changed/modified\n",
    "    - read and write the data\n",
    "- tuples are immutable -- can;t be changed / modified\n",
    "    - read data only"
   ]
  },
  {
   "cell_type": "code",
   "execution_count": 95,
   "metadata": {},
   "outputs": [
    {
     "name": "stdout",
     "output_type": "stream",
     "text": [
      "(1, 2, 3, 4, 5)\n"
     ]
    }
   ],
   "source": [
    "t1 = (1,2,3,4,5)\n",
    "print(t1)"
   ]
  },
  {
   "cell_type": "code",
   "execution_count": 96,
   "metadata": {},
   "outputs": [
    {
     "name": "stdout",
     "output_type": "stream",
     "text": [
      "(2, 1)\n"
     ]
    }
   ],
   "source": [
    "print(t1[1::-1])"
   ]
  },
  {
   "cell_type": "markdown",
   "metadata": {},
   "source": [
    "# standard libraries\n",
    "- regular expression\n",
    "    - to validate the indian mobile\n",
    "    - to validate emailid\n",
    "    - to validate username\n",
    "    - to validate password\n",
    "- understanding the regular expression\n",
    "    - [0-9] -- any digit matching\n",
    "    - [a-z] -- any lower case matching\n",
    "    - [A-Z] -- any upper case matching\n",
    "    - cap symbol is used to represent the start of regular expression\n",
    "    - dollar symbol is used to represent the end of regular expression"
   ]
  },
  {
   "cell_type": "code",
   "execution_count": 98,
   "metadata": {},
   "outputs": [
    {
     "name": "stdout",
     "output_type": "stream",
     "text": [
      "True\n",
      "False\n"
     ]
    }
   ],
   "source": [
    "# function to testtwo digit number as input\n",
    "# true -- input two digit number\n",
    "# false -- input not a two digit number\n",
    "import re\n",
    "def twodigitmatching(n):\n",
    "    pattern = '^[0-9]{2}$'\n",
    "    n = str(n)\n",
    "    if re.match(pattern,n):\n",
    "        return True\n",
    "    return False\n",
    "print(twodigitmatching(12))\n",
    "print(twodigitmatching(123))"
   ]
  },
  {
   "cell_type": "code",
   "execution_count": 114,
   "metadata": {},
   "outputs": [
    {
     "name": "stdout",
     "output_type": "stream",
     "text": [
      "True\n",
      "False\n",
      "False\n"
     ]
    }
   ],
   "source": [
    "# regular expression for usernmame\n",
    "# username -- should contail lower and upper case characters\n",
    "# length -- min = 5 and max = 12\n",
    "def validateusername(s):\n",
    "    pattern = '^[a-zA-Z]{5,12}$'\n",
    "    if re.match(pattern,s):\n",
    "        return True\n",
    "    return False\n",
    "print(validateusername('AnilKumar'))\n",
    "print(validateusername('Anil'))\n",
    "print(validateusername('gitamvizagpythonprogramming'))"
   ]
  },
  {
   "cell_type": "markdown",
   "metadata": {},
   "source": [
    "# regular expression\n",
    "    - regulr expression for rollno\n",
    "        - example:1521a0501 # VALID\n",
    "        - EXAMPLE : 1621A0574 # NOT VALID\n",
    "    - REGULAR EXPRESSION FOR PASSWord\n",
    "        parameters - len min 6 max 10\n",
    "        - accept lower case uppercase, digits and spl\n",
    "        - example : pass123@21#valid\n",
    "        - example: pass12*21# not valid"
   ]
  },
  {
   "cell_type": "markdown",
   "metadata": {},
   "source": [
    "### regular expression for indian mobile number\n",
    "- 10 idgit number\n",
    "    - first number starts from [6-9]\n",
    "    - rest of 9 numbers is between [0-9]\n",
    "        - example : 6302634470 # valid\n",
    "        - examole : 5468887668 # not valid\n",
    "- 11 digit number\n",
    "    - first number can be 0\n",
    "    - second number can be [6-9]\n",
    "    - rest of 9 numbers is betwen [0-9]\n",
    "        - example : 09866886768\n",
    "        - example : 99546744646\n",
    "- 13 digit number\n",
    "    - first number can be +\n",
    "    - second number can be 9\n",
    "    - third number can be 1\n",
    "    - fourth number[6-9]\n",
    "    - rest of numbers[0-9]\n",
    "        - example : +919493446170\n",
    "        - example : +915698746464"
   ]
  },
  {
   "cell_type": "code",
   "execution_count": 2,
   "metadata": {},
   "outputs": [],
   "source": [
    "# rule 1 : ^[6-9][0-9]{9}$\n",
    "# rule 2 : ^[0][6-9][0-9]{9}$\n",
    "# rule 3 : ^[+][9][1][6-9][0-9]{9}$"
   ]
  },
  {
   "cell_type": "code",
   "execution_count": 17,
   "metadata": {},
   "outputs": [
    {
     "data": {
      "text/plain": [
       "True"
      ]
     },
     "execution_count": 17,
     "metadata": {},
     "output_type": "execute_result"
    }
   ],
   "source": [
    "import re\n",
    "def validateindianphone(n):\n",
    "    pattern = '^[6-9][0-9]{9}$|^[0][6-9][0-9]{9}$|^[+][9][1][6-9][0-9]{9}$'\n",
    "    n = str(n)\n",
    "    if re.match(pattern,n):\n",
    "        return True\n",
    "    return False\n",
    "validateindianphone('+916302634470')"
   ]
  },
  {
   "cell_type": "markdown",
   "metadata": {},
   "source": [
    "### validate the emailid\n",
    "- example : username@domainname .extension\n",
    "- example : dsps@gmail.com\n",
    "- username :\n",
    "    - len of string will be [6-15]\n",
    "    - no spl character except underscore(_) and dot(.)\n",
    "    - username should no begins with underscore(_)\n",
    "    - all characters set digits, characters set ad upper case\n",
    "        - example : Anil_1889\n",
    "- DomainName:\n",
    "    - len of string will be [3-18]\n",
    "    - no spls characters\n",
    "    - character set will be digits , and upper case\n",
    "- Extension:\n",
    "     - len of string will be [2-4]\n",
    "     - no spls characters\n",
    "     - characters set will be lower case characters"
   ]
  },
  {
   "cell_type": "code",
   "execution_count": 20,
   "metadata": {},
   "outputs": [],
   "source": [
    "# username re: ^[0-9a-zA-Z][0-9a-zA-Z_.]{5,20}$\n",
    "# domainname : ^[a-z0-9]{3,18}$\n",
    "# extension re : ^[a-z]{2,4}$\n",
    "# emailid re : ^[0-9a-zA-Z][0-9a-zA-Z_.]{5,20}[@][a-z0-9]{3,18}[.][a-z]{2,4}$"
   ]
  },
  {
   "cell_type": "code",
   "execution_count": 19,
   "metadata": {},
   "outputs": [
    {
     "name": "stdout",
     "output_type": "stream",
     "text": [
      "True\n",
      "True\n"
     ]
    }
   ],
   "source": [
    "def validateemail(email):\n",
    "    pattern = '^[0-9a-zA-Z][0-9a-zA-Z_.]{5,25}[@][a-z0-9]{3,18}[.][a-z]{2,4}$'\n",
    "    if re.match(pattern,email):\n",
    "        return True\n",
    "    return False\n",
    "print(validateemail('manipuppala55@gmail.com'))\n",
    "print(validateemail('anilkumar1889@hotmail.com'))"
   ]
  },
  {
   "cell_type": "markdown",
   "metadata": {},
   "source": [
    "### python graphics\n",
    "- lib - turtle"
   ]
  },
  {
   "cell_type": "markdown",
   "metadata": {},
   "source": [
    "### package, module and sub package\n",
    "\n",
    "### package\n",
    "    - a collection of modules(single python file)"
   ]
  },
  {
   "cell_type": "code",
   "execution_count": 22,
   "metadata": {},
   "outputs": [
    {
     "data": {
      "text/plain": [
       "123"
      ]
     },
     "execution_count": 22,
     "metadata": {},
     "output_type": "execute_result"
    }
   ],
   "source": [
    "import math\n",
    "math.floor(123.456)"
   ]
  },
  {
   "cell_type": "code",
   "execution_count": 23,
   "metadata": {},
   "outputs": [
    {
     "data": {
      "text/plain": [
       "124"
      ]
     },
     "execution_count": 23,
     "metadata": {},
     "output_type": "execute_result"
    }
   ],
   "source": [
    "math.ceil(123.456)"
   ]
  },
  {
   "cell_type": "code",
   "execution_count": 24,
   "metadata": {},
   "outputs": [
    {
     "data": {
      "text/plain": [
       "3628800"
      ]
     },
     "execution_count": 24,
     "metadata": {},
     "output_type": "execute_result"
    }
   ],
   "source": [
    "from math import factorial as fact\n",
    "fact(10)"
   ]
  },
  {
   "cell_type": "code",
   "execution_count": 25,
   "metadata": {},
   "outputs": [
    {
     "data": {
      "text/plain": [
       "5"
      ]
     },
     "execution_count": 25,
     "metadata": {},
     "output_type": "execute_result"
    }
   ],
   "source": [
    "from math import gcd as gcd\n",
    "gcd(10,15)"
   ]
  },
  {
   "cell_type": "code",
   "execution_count": 31,
   "metadata": {},
   "outputs": [
    {
     "name": "stdout",
     "output_type": "stream",
     "text": [
      "0 0 2 2 "
     ]
    }
   ],
   "source": [
    "# import random package\n",
    "import random\n",
    "# function to generate the n numbers in given range\n",
    "def generaterandomnum(n,lb,ub):\n",
    "    for i in range(0,n):\n",
    "        print(random.randint(lb,ub),end=' ')\n",
    "    return\n",
    "generaterandomnum(4,0,9)"
   ]
  },
  {
   "cell_type": "code",
   "execution_count": 527,
   "metadata": {},
   "outputs": [
    {
     "name": "stdout",
     "output_type": "stream",
     "text": [
      "try again\n"
     ]
    }
   ],
   "source": [
    "# create a simple game\n",
    "# try to generate 20 numbers\n",
    "# input : numbers\n",
    "# present : congrats!!!\n",
    "# not present : try again\n",
    "from random import randint as rdint\n",
    "def generatenum(n,lb,ub):\n",
    "    li = []\n",
    "    for i in range(0,n):\n",
    "        li.append(rdint(lb,ub))\n",
    "    return li\n",
    "def check(n):\n",
    "    li = generatenum(20,100,999)\n",
    "    if n in li:\n",
    "        print('congrats!!!')\n",
    "    else:\n",
    "        print('try again')\n",
    "    return\n",
    "check(569)"
   ]
  },
  {
   "cell_type": "code",
   "execution_count": null,
   "metadata": {},
   "outputs": [],
   "source": [
    "\n",
    "import turtle as tt\n",
    "a1 = tt.Turtle()\n",
    "a1.backward(100000)\n",
    "tt.done\n"
   ]
  },
  {
   "cell_type": "code",
   "execution_count": null,
   "metadata": {},
   "outputs": [],
   "source": []
  },
  {
   "cell_type": "code",
   "execution_count": null,
   "metadata": {},
   "outputs": [],
   "source": []
  },
  {
   "cell_type": "code",
   "execution_count": null,
   "metadata": {},
   "outputs": [],
   "source": []
  },
  {
   "cell_type": "code",
   "execution_count": null,
   "metadata": {},
   "outputs": [],
   "source": []
  }
 ],
 "metadata": {
  "kernelspec": {
   "display_name": "Python 3",
   "language": "python",
   "name": "python3"
  },
  "language_info": {
   "codemirror_mode": {
    "name": "ipython",
    "version": 3
   },
   "file_extension": ".py",
   "mimetype": "text/x-python",
   "name": "python",
   "nbconvert_exporter": "python",
   "pygments_lexer": "ipython3",
   "version": "3.7.3"
  }
 },
 "nbformat": 4,
 "nbformat_minor": 2
}
